{
  "nbformat": 4,
  "nbformat_minor": 0,
  "metadata": {
    "colab": {
      "name": "DataCleansingAndEda.ipynb",
      "provenance": [],
      "collapsed_sections": [
        "6IrTCw9h-Gy2",
        "6uOouDK-9AAm",
        "nXAvqmQXOu2M",
        "DblksATteRc-"
      ],
      "toc_visible": true,
      "authorship_tag": "ABX9TyPFsR3So8jRFaa0oM1y11+L",
      "include_colab_link": true
    },
    "kernelspec": {
      "name": "python3",
      "display_name": "Python 3"
    },
    "accelerator": "GPU",
    "widgets": {
      "application/vnd.jupyter.widget-state+json": {
        "c18efe38eb474a82af2d69e58541e82a": {
          "model_module": "@jupyter-widgets/controls",
          "model_name": "HBoxModel",
          "state": {
            "_view_name": "HBoxView",
            "_dom_classes": [],
            "_model_name": "HBoxModel",
            "_view_module": "@jupyter-widgets/controls",
            "_model_module_version": "1.5.0",
            "_view_count": null,
            "_view_module_version": "1.5.0",
            "box_style": "",
            "layout": "IPY_MODEL_05fc5f9dbb9f4bb1844a9a718e2d4eb8",
            "_model_module": "@jupyter-widgets/controls",
            "children": [
              "IPY_MODEL_9471611b94444c98a910c5269efe7a06",
              "IPY_MODEL_b6ce65b2fc774e9abe8567dfdea32613"
            ]
          }
        },
        "05fc5f9dbb9f4bb1844a9a718e2d4eb8": {
          "model_module": "@jupyter-widgets/base",
          "model_name": "LayoutModel",
          "state": {
            "_view_name": "LayoutView",
            "grid_template_rows": null,
            "right": null,
            "justify_content": null,
            "_view_module": "@jupyter-widgets/base",
            "overflow": null,
            "_model_module_version": "1.2.0",
            "_view_count": null,
            "flex_flow": null,
            "width": null,
            "min_width": null,
            "border": null,
            "align_items": null,
            "bottom": null,
            "_model_module": "@jupyter-widgets/base",
            "top": null,
            "grid_column": null,
            "overflow_y": null,
            "overflow_x": null,
            "grid_auto_flow": null,
            "grid_area": null,
            "grid_template_columns": null,
            "flex": null,
            "_model_name": "LayoutModel",
            "justify_items": null,
            "grid_row": null,
            "max_height": null,
            "align_content": null,
            "visibility": null,
            "align_self": null,
            "height": null,
            "min_height": null,
            "padding": null,
            "grid_auto_rows": null,
            "grid_gap": null,
            "max_width": null,
            "order": null,
            "_view_module_version": "1.2.0",
            "grid_template_areas": null,
            "object_position": null,
            "object_fit": null,
            "grid_auto_columns": null,
            "margin": null,
            "display": null,
            "left": null
          }
        },
        "9471611b94444c98a910c5269efe7a06": {
          "model_module": "@jupyter-widgets/controls",
          "model_name": "FloatProgressModel",
          "state": {
            "_view_name": "ProgressView",
            "style": "IPY_MODEL_1a7883671b854e72923e098c1d268f77",
            "_dom_classes": [],
            "description": " 64%",
            "_model_name": "FloatProgressModel",
            "bar_style": "danger",
            "max": 100,
            "_view_module": "@jupyter-widgets/controls",
            "_model_module_version": "1.5.0",
            "value": 64,
            "_view_count": null,
            "_view_module_version": "1.5.0",
            "orientation": "horizontal",
            "min": 0,
            "description_tooltip": null,
            "_model_module": "@jupyter-widgets/controls",
            "layout": "IPY_MODEL_0b41995493fa44208c5256e2b9cf9bff"
          }
        },
        "b6ce65b2fc774e9abe8567dfdea32613": {
          "model_module": "@jupyter-widgets/controls",
          "model_name": "HTMLModel",
          "state": {
            "_view_name": "HTMLView",
            "style": "IPY_MODEL_37549c70f0904d5b97aca92273f24cea",
            "_dom_classes": [],
            "description": "",
            "_model_name": "HTMLModel",
            "placeholder": "​",
            "_view_module": "@jupyter-widgets/controls",
            "_model_module_version": "1.5.0",
            "value": " 64/100 [00:20&lt;00:06,  5.39it/s]",
            "_view_count": null,
            "_view_module_version": "1.5.0",
            "description_tooltip": null,
            "_model_module": "@jupyter-widgets/controls",
            "layout": "IPY_MODEL_9c4dae95f59a4fffbdb13313b6abb4ae"
          }
        },
        "1a7883671b854e72923e098c1d268f77": {
          "model_module": "@jupyter-widgets/controls",
          "model_name": "ProgressStyleModel",
          "state": {
            "_view_name": "StyleView",
            "_model_name": "ProgressStyleModel",
            "description_width": "initial",
            "_view_module": "@jupyter-widgets/base",
            "_model_module_version": "1.5.0",
            "_view_count": null,
            "_view_module_version": "1.2.0",
            "bar_color": null,
            "_model_module": "@jupyter-widgets/controls"
          }
        },
        "0b41995493fa44208c5256e2b9cf9bff": {
          "model_module": "@jupyter-widgets/base",
          "model_name": "LayoutModel",
          "state": {
            "_view_name": "LayoutView",
            "grid_template_rows": null,
            "right": null,
            "justify_content": null,
            "_view_module": "@jupyter-widgets/base",
            "overflow": null,
            "_model_module_version": "1.2.0",
            "_view_count": null,
            "flex_flow": null,
            "width": null,
            "min_width": null,
            "border": null,
            "align_items": null,
            "bottom": null,
            "_model_module": "@jupyter-widgets/base",
            "top": null,
            "grid_column": null,
            "overflow_y": null,
            "overflow_x": null,
            "grid_auto_flow": null,
            "grid_area": null,
            "grid_template_columns": null,
            "flex": null,
            "_model_name": "LayoutModel",
            "justify_items": null,
            "grid_row": null,
            "max_height": null,
            "align_content": null,
            "visibility": null,
            "align_self": null,
            "height": null,
            "min_height": null,
            "padding": null,
            "grid_auto_rows": null,
            "grid_gap": null,
            "max_width": null,
            "order": null,
            "_view_module_version": "1.2.0",
            "grid_template_areas": null,
            "object_position": null,
            "object_fit": null,
            "grid_auto_columns": null,
            "margin": null,
            "display": null,
            "left": null
          }
        },
        "37549c70f0904d5b97aca92273f24cea": {
          "model_module": "@jupyter-widgets/controls",
          "model_name": "DescriptionStyleModel",
          "state": {
            "_view_name": "StyleView",
            "_model_name": "DescriptionStyleModel",
            "description_width": "",
            "_view_module": "@jupyter-widgets/base",
            "_model_module_version": "1.5.0",
            "_view_count": null,
            "_view_module_version": "1.2.0",
            "_model_module": "@jupyter-widgets/controls"
          }
        },
        "9c4dae95f59a4fffbdb13313b6abb4ae": {
          "model_module": "@jupyter-widgets/base",
          "model_name": "LayoutModel",
          "state": {
            "_view_name": "LayoutView",
            "grid_template_rows": null,
            "right": null,
            "justify_content": null,
            "_view_module": "@jupyter-widgets/base",
            "overflow": null,
            "_model_module_version": "1.2.0",
            "_view_count": null,
            "flex_flow": null,
            "width": null,
            "min_width": null,
            "border": null,
            "align_items": null,
            "bottom": null,
            "_model_module": "@jupyter-widgets/base",
            "top": null,
            "grid_column": null,
            "overflow_y": null,
            "overflow_x": null,
            "grid_auto_flow": null,
            "grid_area": null,
            "grid_template_columns": null,
            "flex": null,
            "_model_name": "LayoutModel",
            "justify_items": null,
            "grid_row": null,
            "max_height": null,
            "align_content": null,
            "visibility": null,
            "align_self": null,
            "height": null,
            "min_height": null,
            "padding": null,
            "grid_auto_rows": null,
            "grid_gap": null,
            "max_width": null,
            "order": null,
            "_view_module_version": "1.2.0",
            "grid_template_areas": null,
            "object_position": null,
            "object_fit": null,
            "grid_auto_columns": null,
            "margin": null,
            "display": null,
            "left": null
          }
        }
      }
    }
  },
  "cells": [
    {
      "cell_type": "markdown",
      "metadata": {
        "id": "view-in-github",
        "colab_type": "text"
      },
      "source": [
        "<a href=\"https://colab.research.google.com/github/Pager07/A-Hackers-AI-Voice-Assistant/blob/master/DataCleansingAndEda.ipynb\" target=\"_parent\"><img src=\"https://colab.research.google.com/assets/colab-badge.svg\" alt=\"Open In Colab\"/></a>"
      ]
    },
    {
      "cell_type": "markdown",
      "metadata": {
        "id": "6IrTCw9h-Gy2"
      },
      "source": [
        "#Load Data"
      ]
    },
    {
      "cell_type": "code",
      "metadata": {
        "id": "lmyPzefKCn2k"
      },
      "source": [
        "import pandas as pd\n",
        "import numpy as np\n",
        "\n",
        "isMergedDatasetAvailabel = True\n",
        "if not isMergedDatasetAvailabel:\n",
        "  train_bodies_df = pd.read_csv('train_bodies.csv')\n",
        "  train_stance_df = pd.read_csv('train_stances.csv')\n",
        "  test_bodies_df = pd.read_csv('competition_test_bodies.csv')\n",
        "  test_stance_df = pd.read_csv('competition_test_stances.csv')\n",
        "  \n",
        "  #merge the training dataframe\n",
        "  train_merged = pd.merge(train_stance_df,train_bodies_df,on='Body ID',how='outer')\n",
        "  test_merged = pd.merge(test_stance_df,test_bodies_df,on='Body ID', how='outer')\n",
        "else:\n",
        "  train_merged = pd.read_csv('train_merged.csv',index_col=0)\n",
        "  test_merged = pd.read_csv('test_merged.csv',index_col=0)"
      ],
      "execution_count": 4,
      "outputs": []
    },
    {
      "cell_type": "code",
      "metadata": {
        "colab": {
          "base_uri": "https://localhost:8080/",
          "height": 195
        },
        "id": "s6bs4zxJDOWB",
        "outputId": "a6d34054-55f7-4424-ceba-419ba60405b4"
      },
      "source": [
        "train_merged.head()"
      ],
      "execution_count": null,
      "outputs": [
        {
          "output_type": "execute_result",
          "data": {
            "text/html": [
              "<div>\n",
              "<style scoped>\n",
              "    .dataframe tbody tr th:only-of-type {\n",
              "        vertical-align: middle;\n",
              "    }\n",
              "\n",
              "    .dataframe tbody tr th {\n",
              "        vertical-align: top;\n",
              "    }\n",
              "\n",
              "    .dataframe thead th {\n",
              "        text-align: right;\n",
              "    }\n",
              "</style>\n",
              "<table border=\"1\" class=\"dataframe\">\n",
              "  <thead>\n",
              "    <tr style=\"text-align: right;\">\n",
              "      <th></th>\n",
              "      <th>Headline</th>\n",
              "      <th>Body ID</th>\n",
              "      <th>Stance</th>\n",
              "      <th>articleBody</th>\n",
              "    </tr>\n",
              "  </thead>\n",
              "  <tbody>\n",
              "    <tr>\n",
              "      <th>0</th>\n",
              "      <td>police mass grave 15 body near mexico town 43 ...</td>\n",
              "      <td>712</td>\n",
              "      <td>unrelated</td>\n",
              "      <td>danny boyle direct untitled film seth rogen ey...</td>\n",
              "    </tr>\n",
              "    <tr>\n",
              "      <th>1</th>\n",
              "      <td>seth rogen play apple s steve wozniak</td>\n",
              "      <td>712</td>\n",
              "      <td>discuss</td>\n",
              "      <td>danny boyle direct untitled film seth rogen ey...</td>\n",
              "    </tr>\n",
              "    <tr>\n",
              "      <th>2</th>\n",
              "      <td>mexico police mass grave near site 43 students...</td>\n",
              "      <td>712</td>\n",
              "      <td>unrelated</td>\n",
              "      <td>danny boyle direct untitled film seth rogen ey...</td>\n",
              "    </tr>\n",
              "    <tr>\n",
              "      <th>3</th>\n",
              "      <td>mexico say miss students mass grave</td>\n",
              "      <td>712</td>\n",
              "      <td>unrelated</td>\n",
              "      <td>danny boyle direct untitled film seth rogen ey...</td>\n",
              "    </tr>\n",
              "    <tr>\n",
              "      <th>4</th>\n",
              "      <td>new ios 8 bug delete icloud document</td>\n",
              "      <td>712</td>\n",
              "      <td>unrelated</td>\n",
              "      <td>danny boyle direct untitled film seth rogen ey...</td>\n",
              "    </tr>\n",
              "  </tbody>\n",
              "</table>\n",
              "</div>"
            ],
            "text/plain": [
              "                                            Headline  ...                                        articleBody\n",
              "0  police mass grave 15 body near mexico town 43 ...  ...  danny boyle direct untitled film seth rogen ey...\n",
              "1              seth rogen play apple s steve wozniak  ...  danny boyle direct untitled film seth rogen ey...\n",
              "2  mexico police mass grave near site 43 students...  ...  danny boyle direct untitled film seth rogen ey...\n",
              "3                mexico say miss students mass grave  ...  danny boyle direct untitled film seth rogen ey...\n",
              "4               new ios 8 bug delete icloud document  ...  danny boyle direct untitled film seth rogen ey...\n",
              "\n",
              "[5 rows x 4 columns]"
            ]
          },
          "metadata": {
            "tags": []
          },
          "execution_count": 37
        }
      ]
    },
    {
      "cell_type": "code",
      "metadata": {
        "colab": {
          "base_uri": "https://localhost:8080/",
          "height": 195
        },
        "id": "ePeZsfjG91pv",
        "outputId": "dbbb2fb3-aa8a-4f99-c8a5-faf975a80c76"
      },
      "source": [
        "test_merged.head()"
      ],
      "execution_count": null,
      "outputs": [
        {
          "output_type": "execute_result",
          "data": {
            "text/html": [
              "<div>\n",
              "<style scoped>\n",
              "    .dataframe tbody tr th:only-of-type {\n",
              "        vertical-align: middle;\n",
              "    }\n",
              "\n",
              "    .dataframe tbody tr th {\n",
              "        vertical-align: top;\n",
              "    }\n",
              "\n",
              "    .dataframe thead th {\n",
              "        text-align: right;\n",
              "    }\n",
              "</style>\n",
              "<table border=\"1\" class=\"dataframe\">\n",
              "  <thead>\n",
              "    <tr style=\"text-align: right;\">\n",
              "      <th></th>\n",
              "      <th>Headline</th>\n",
              "      <th>Body ID</th>\n",
              "      <th>Stance</th>\n",
              "      <th>articleBody</th>\n",
              "    </tr>\n",
              "  </thead>\n",
              "  <tbody>\n",
              "    <tr>\n",
              "      <th>0</th>\n",
              "      <td>ferguson riot pregnant woman lose eye cop bean...</td>\n",
              "      <td>2008</td>\n",
              "      <td>unrelated</td>\n",
              "      <td>respect senior french police officer investiga...</td>\n",
              "    </tr>\n",
              "    <tr>\n",
              "      <th>1</th>\n",
              "      <td>apple store install safes secure gold apple watch</td>\n",
              "      <td>2008</td>\n",
              "      <td>unrelated</td>\n",
              "      <td>respect senior french police officer investiga...</td>\n",
              "    </tr>\n",
              "    <tr>\n",
              "      <th>2</th>\n",
              "      <td>pregnant woman lose eye police shoot bean bag</td>\n",
              "      <td>2008</td>\n",
              "      <td>unrelated</td>\n",
              "      <td>respect senior french police officer investiga...</td>\n",
              "    </tr>\n",
              "    <tr>\n",
              "      <th>3</th>\n",
              "      <td>just ferguson protester claim shoot eye rubber...</td>\n",
              "      <td>2008</td>\n",
              "      <td>unrelated</td>\n",
              "      <td>respect senior french police officer investiga...</td>\n",
              "    </tr>\n",
              "    <tr>\n",
              "      <th>4</th>\n",
              "      <td>police chief charge paris attack commit suicide</td>\n",
              "      <td>2008</td>\n",
              "      <td>discuss</td>\n",
              "      <td>respect senior french police officer investiga...</td>\n",
              "    </tr>\n",
              "  </tbody>\n",
              "</table>\n",
              "</div>"
            ],
            "text/plain": [
              "                                            Headline  ...                                        articleBody\n",
              "0  ferguson riot pregnant woman lose eye cop bean...  ...  respect senior french police officer investiga...\n",
              "1  apple store install safes secure gold apple watch  ...  respect senior french police officer investiga...\n",
              "2      pregnant woman lose eye police shoot bean bag  ...  respect senior french police officer investiga...\n",
              "3  just ferguson protester claim shoot eye rubber...  ...  respect senior french police officer investiga...\n",
              "4    police chief charge paris attack commit suicide  ...  respect senior french police officer investiga...\n",
              "\n",
              "[5 rows x 4 columns]"
            ]
          },
          "metadata": {
            "tags": []
          },
          "execution_count": 38
        }
      ]
    },
    {
      "cell_type": "markdown",
      "metadata": {
        "id": "6uOouDK-9AAm"
      },
      "source": [
        "#Data Cleaning"
      ]
    },
    {
      "cell_type": "code",
      "metadata": {
        "colab": {
          "base_uri": "https://localhost:8080/"
        },
        "id": "nXYpYYBO-CPL",
        "outputId": "da28e9ac-75fc-4231-8300-286ae538f769"
      },
      "source": [
        "import re\n",
        "import numpy as np\n",
        "\n",
        "from sklearn import feature_extraction\n",
        "from sklearn.feature_extraction.text import CountVectorizer\n",
        "\n",
        "import nltk\n",
        "from nltk.corpus import wordnet\n",
        "from nltk.tokenize import word_tokenize\n",
        "\n",
        "#downloads\n",
        "nltk.download('punkt')\n",
        "nltk.download('wordnet')\n",
        "nltk.download('stopwords')"
      ],
      "execution_count": null,
      "outputs": [
        {
          "output_type": "stream",
          "text": [
            "[nltk_data] Downloading package punkt to /root/nltk_data...\n",
            "[nltk_data]   Unzipping tokenizers/punkt.zip.\n",
            "[nltk_data] Downloading package wordnet to /root/nltk_data...\n",
            "[nltk_data]   Unzipping corpora/wordnet.zip.\n",
            "[nltk_data] Downloading package stopwords to /root/nltk_data...\n",
            "[nltk_data]   Unzipping corpora/stopwords.zip.\n"
          ],
          "name": "stdout"
        },
        {
          "output_type": "execute_result",
          "data": {
            "text/plain": [
              "True"
            ]
          },
          "metadata": {
            "tags": []
          },
          "execution_count": 18
        }
      ]
    },
    {
      "cell_type": "code",
      "metadata": {
        "id": "uKYAWxQ66csW"
      },
      "source": [
        "wnl= nltk.WordNetLemmatizer()\n",
        "def normalize(word):\n",
        "  '''\n",
        "  Helper function fo get_normalized_tokens()\n",
        "  Takes a word and lemmatizes it eg. bats -> bat\n",
        "  Args:\n",
        "   word: str\n",
        "  '''\n",
        "  return wnl.lemmatize(word,wordnet.VERB).lower()\n",
        "\n",
        "def get_normalized_tokens(seq):\n",
        "  '''\n",
        "  Takes a sentence and returns normalized tokens\n",
        "  Args:\n",
        "    seq: str, A sentece\n",
        "  '''\n",
        "  normalized_tokens = []\n",
        "  for token in nltk.word_tokenize(seq):\n",
        "    normalized_tokens.append(normalize(token))\n",
        "  return normalized_tokens\n",
        "\n",
        "def clean(seq):\n",
        "  '''\n",
        "  Takes a senetence and removes emojies, non-numerical, non-alphabetically words \n",
        "  Args:\n",
        "    seq: str, A sentece\n",
        "  '''\n",
        "  valid = re.findall(r'\\w+', seq, flags=re.UNICODE)\n",
        "  seq = ' '.join(valid).lower()\n",
        "  return seq\n",
        "\n",
        "def remove_stopwords(token_list):\n",
        "  '''\n",
        "  Args:\n",
        "    token_list: List, containg tokens\n",
        "  '''\n",
        "  filtered_token_list = []\n",
        "  for w in token_list:\n",
        "    if w not in feature_extraction.text.ENGLISH_STOP_WORDS:\n",
        "      filtered_token_list.append(w)\n",
        "  return filtered_token_list\n",
        "\n",
        "\n",
        "def preprocess(sentence):\n",
        "  '''\n",
        "  This function takes in a raw body sentence|title and returns preproccesed sentence\n",
        "\n",
        "  '''\n",
        "  #Remove non-alphabatically, non-numerical,emojis etc..\n",
        "  sentence = clean(sentence)\n",
        "  #(normalization/lemmatization)\n",
        "  tokens = get_normalized_tokens(sentence)\n",
        "  #remove any stopwords\n",
        "  tokens = remove_stopwords(tokens)\n",
        "  sentence = ' '.join(tokens)\n",
        "  return sentence\n",
        "\n",
        "\n",
        "\n",
        "\n",
        "\n"
      ],
      "execution_count": null,
      "outputs": []
    },
    {
      "cell_type": "code",
      "metadata": {
        "id": "DpC_03LxQMPK"
      },
      "source": [
        "train_merged['articleBody']= train_merged['articleBody'].apply(preprocess)\n",
        "test_merged['articleBody'] = test_merged['articleBody'].apply(preprocess)\n",
        "train_merged['Headline']=train_merged['Headline'].apply(preprocess)\n",
        "test_merged['Headline']= test_merged['Headline'].apply(preprocess)"
      ],
      "execution_count": null,
      "outputs": []
    },
    {
      "cell_type": "code",
      "metadata": {
        "id": "39TtVR1iidGO"
      },
      "source": [
        "train_merged.to_csv('train_merged.csv')"
      ],
      "execution_count": null,
      "outputs": []
    },
    {
      "cell_type": "code",
      "metadata": {
        "id": "7fXz-aHYikd2"
      },
      "source": [
        "test_merged.to_csv('test_merged.csv')"
      ],
      "execution_count": null,
      "outputs": []
    },
    {
      "cell_type": "markdown",
      "metadata": {
        "id": "nXAvqmQXOu2M"
      },
      "source": [
        "#EDA"
      ]
    },
    {
      "cell_type": "code",
      "metadata": {
        "id": "BMgt5mEqKevx"
      },
      "source": [
        "def get_top_trigrams(corpus, n=10):\n",
        "    vec = CountVectorizer(ngram_range=(3, 3)).fit(corpus) # parameter is set for 2 (bigram)\n",
        "    \n",
        "    bag_of_words = vec.transform(corpus)\n",
        "    sum_words = bag_of_words.sum(axis=0)\n",
        "    \n",
        "    words_freq = [(word, sum_words[0, idx]) for word, idx in vec.vocabulary_.items()]\n",
        "    words_freq = sorted(words_freq, key = lambda x: x[1], reverse=True)\n",
        "    \n",
        "    return words_freq[:n]\n",
        "\n"
      ],
      "execution_count": null,
      "outputs": []
    },
    {
      "cell_type": "code",
      "metadata": {
        "id": "nY49dpNUN2qe"
      },
      "source": [
        "#first let us check the biagram of all the data\n",
        "plt.figure(figsize=(10, 5))\n",
        "top_tweet_bigrams = get_top_trigrams(train_merged['Headline'],n=20)\n",
        "\n",
        "y, x = map(list, zip(*top_tweet_bigrams))\n",
        "\n",
        "sns.barplot(x=x, y=y)\n",
        "plt.title('Biagrams (Headline)')"
      ],
      "execution_count": null,
      "outputs": []
    },
    {
      "cell_type": "code",
      "metadata": {
        "id": "S0-G-o_JOGgC"
      },
      "source": [
        "#first let us check the biagram of all the data\n",
        "plt.figure(figsize=(10, 5))\n",
        "top_tweet_bigrams = get_top_trigrams(train_merged['articleBody'],n=20)\n",
        "\n",
        "y, x = map(list, zip(*top_tweet_bigrams))\n",
        "\n",
        "sns.barplot(x=x, y=y)\n",
        "plt.title('Biagrams (articleBody)')"
      ],
      "execution_count": null,
      "outputs": []
    },
    {
      "cell_type": "code",
      "metadata": {
        "id": "FVd4S7xx-yVl",
        "colab": {
          "base_uri": "https://localhost:8080/",
          "height": 35
        },
        "outputId": "41913f54-0e18-492c-d9ba-4e9cdc1cc454"
      },
      "source": [
        "word = 'plays'\n",
        "out = normalize(word)\n",
        "assert out == 'play'\n",
        "\n",
        "text ='hello   I #like to eatsfood 123'\n",
        "out = get_normalized_tokens(text)\n",
        "assert out == ['hello', 'i', '#', 'like', 'to', 'eatsfood','123']\n",
        "\n",
        "text ='.   hello   I #like to eatsfood 123 -+~@:%^&www.*😔😔'\n",
        "out = clean(text);out\n",
        "assert out == 'hello i like to eatsfood 123 www'\n",
        "\n",
        "token_list = ['hello', 'i', '#', 'like', 'to', 'eatsfood','123']\n",
        "out = remove_stopwords(token_list);\n",
        "assert out == ['hello', '#', 'like', 'eatsfood', '123']\n",
        "\n",
        "text ='.   hello bats,cats, alphakenny  I am #like to eatsfood 123 -+~@:%^&www.*😔😔'\n",
        "out = preprocess(text); out"
      ],
      "execution_count": null,
      "outputs": [
        {
          "output_type": "execute_result",
          "data": {
            "application/vnd.google.colaboratory.intrinsic+json": {
              "type": "string"
            },
            "text/plain": [
              "'hello bat cat alphakenny like eatsfood 123 www'"
            ]
          },
          "metadata": {
            "tags": []
          },
          "execution_count": 40
        }
      ]
    },
    {
      "cell_type": "code",
      "metadata": {
        "colab": {
          "base_uri": "https://localhost:8080/",
          "height": 282
        },
        "id": "qBxt3zGCk9v5",
        "outputId": "04edfd3f-908b-4173-a222-5e77656c2e9c"
      },
      "source": [
        "#Very imblanaced\n",
        "train_merged['Stance'].hist()"
      ],
      "execution_count": null,
      "outputs": [
        {
          "output_type": "execute_result",
          "data": {
            "text/plain": [
              "<matplotlib.axes._subplots.AxesSubplot at 0x7f328458a490>"
            ]
          },
          "metadata": {
            "tags": []
          },
          "execution_count": 86
        },
        {
          "output_type": "display_data",
          "data": {
            "image/png": "[encoded data removed]",
            "text/plain": [
              "<Figure size 432x288 with 1 Axes>"
            ]
          },
          "metadata": {
            "tags": []
          }
        }
      ]
    },
    {
      "cell_type": "code",
      "metadata": {
        "colab": {
          "base_uri": "https://localhost:8080/",
          "height": 282
        },
        "id": "oK-yQqealFly",
        "outputId": "7f11d18e-adcf-4f60-953f-0c1f042f4bfe"
      },
      "source": [
        "test_merged['Stance'].hist()"
      ],
      "execution_count": null,
      "outputs": [
        {
          "output_type": "execute_result",
          "data": {
            "text/plain": [
              "<matplotlib.axes._subplots.AxesSubplot at 0x7f3286d64ed0>"
            ]
          },
          "metadata": {
            "tags": []
          },
          "execution_count": 88
        },
        {
          "output_type": "display_data",
          "data": {
            "image/png": "[encoded data removed]",
            "text/plain": [
              "<Figure size 432x288 with 1 Axes>"
            ]
          },
          "metadata": {
            "tags": []
          }
        }
      ]
    },
    {
      "cell_type": "code",
      "metadata": {
        "colab": {
          "base_uri": "https://localhost:8080/"
        },
        "id": "DAS5glxtlSBB",
        "outputId": "a3d1f29f-7492-4969-9ffe-65969825ea5d"
      },
      "source": [
        "lens = train_merged['Headline'].str.len()\n",
        "lens.mean(), lens.std(), lens.max()"
      ],
      "execution_count": null,
      "outputs": [
        {
          "output_type": "execute_result",
          "data": {
            "text/plain": [
              "(52.732350116065, 18.165526024059663, 160)"
            ]
          },
          "metadata": {
            "tags": []
          },
          "execution_count": 92
        }
      ]
    },
    {
      "cell_type": "code",
      "metadata": {
        "colab": {
          "base_uri": "https://localhost:8080/"
        },
        "id": "80oPrvgVlh0r",
        "outputId": "648c2811-c2aa-4960-d85c-e581d6f9cdcb"
      },
      "source": [
        "lens = test_merged['Headline'].str.len()\n",
        "lens.mean(), lens.std(), lens.max()"
      ],
      "execution_count": null,
      "outputs": [
        {
          "output_type": "execute_result",
          "data": {
            "text/plain": [
              "(51.55865108409082, 19.526854367729, 184)"
            ]
          },
          "metadata": {
            "tags": []
          },
          "execution_count": 93
        }
      ]
    },
    {
      "cell_type": "code",
      "metadata": {
        "colab": {
          "base_uri": "https://localhost:8080/"
        },
        "id": "5s2PBkTcl1Io",
        "outputId": "41a44b95-1155-45c9-90a4-a9ad3bdedd5c"
      },
      "source": [
        "#The lenght seem to vary alot\n",
        "lens = train_merged['articleBody'].str.len()\n",
        "lens.mean(), lens.std(), lens.max()"
      ],
      "execution_count": null,
      "outputs": [
        {
          "output_type": "execute_result",
          "data": {
            "text/plain": [
              "(1357.260605939326, 1041.9401097155692, 17049)"
            ]
          },
          "metadata": {
            "tags": []
          },
          "execution_count": 95
        }
      ]
    },
    {
      "cell_type": "code",
      "metadata": {
        "colab": {
          "base_uri": "https://localhost:8080/"
        },
        "id": "dV85hcBHlrfG",
        "outputId": "6f60cf02-6cd4-4664-c4f5-cee222caf03f"
      },
      "source": [
        "lens = test_merged['articleBody'].str.len()\n",
        "lens.mean(), lens.std(), lens.max()"
      ],
      "execution_count": null,
      "outputs": [
        {
          "output_type": "execute_result",
          "data": {
            "text/plain": [
              "(1273.0960532011175, 1153.6736047697536, 12801)"
            ]
          },
          "metadata": {
            "tags": []
          },
          "execution_count": 94
        }
      ]
    },
    {
      "cell_type": "markdown",
      "metadata": {
        "id": "EtX3eXw0P8gx"
      },
      "source": [
        "#1.a tf-idf feature extraction"
      ]
    },
    {
      "cell_type": "code",
      "metadata": {
        "colab": {
          "base_uri": "https://localhost:8080/"
        },
        "id": "v7NFcS6WT7RG",
        "outputId": "0a4d42e9-6408-4a77-fd9f-3d92b7d282fd"
      },
      "source": [
        "from sklearn.feature_extraction.text import TfidfVectorizer\n",
        "from scipy.sparse import  hstack\n",
        "\n",
        "totaldata= (train_merged['articleBody'].tolist() + train_merged['Headline'].tolist()+test_merged['articleBody'].tolist()+test_merged['Headline'].tolist())\n",
        "tfidf_vect = TfidfVectorizer(analyzer='word', token_pattern=r'\\w{1,}', max_features=80, stop_words='english')\n",
        "tfidf_vect.fit(totaldata)\n",
        "\n",
        "\n",
        "print('===Starting train headline====')\n",
        "train_head_feature= tfidf_vect.transform(train_merged['Headline']) #(49972, 80)\n",
        "print('===Starting Train body====')\n",
        "train_body_feature= tfidf_vect.transform(train_merged['articleBody']) #(49972, 80)\n",
        "print('===Starting Test headline====')\n",
        "test_head_feature= tfidf_vect.transform(test_merged['Headline']) #(25413, 80)\n",
        "print('===Starting Test articleBody====')\n",
        "test_body_feature = tfidf_vect.transform(test_merged['articleBody']) #(25413, 80)\n",
        "\n",
        "def binary_labels(label):\n",
        "  if label in ['discuss', 'agree', 'disagree']:\n",
        "    return 'related'\n",
        "  elif label in ['unrelated']:\n",
        "    return label\n",
        "  else:\n",
        "    assert f'{label} not found!'\n",
        "\n",
        "train_merged_labels = train_merged['Stance'].apply(binary_labels)\n",
        "test_merged_labels = test_merged['Stance'].apply(binary_labels)\n",
        "print(train_merged_labels.unique(), test_merged_labels.unique())\n",
        "X_train_tfidf,Y_train = hstack([train_head_feature,train_body_feature]).toarray(), train_merged_labels.values\n",
        "X_test_tfidf,Y_test =  hstack([test_head_feature,test_body_feature]).toarray(),  test_merged_labels.values"
      ],
      "execution_count": 5,
      "outputs": [
        {
          "output_type": "stream",
          "text": [
            "===Starting train headline====\n",
            "===Starting Train body====\n",
            "===Starting Test headline====\n",
            "===Starting Test articleBody====\n",
            "['unrelated' 'related'] ['unrelated' 'related']\n"
          ],
          "name": "stdout"
        }
      ]
    },
    {
      "cell_type": "markdown",
      "metadata": {
        "id": "DblksATteRc-"
      },
      "source": [
        "#Train with tf-idf features - Navie Bayes\n"
      ]
    },
    {
      "cell_type": "code",
      "metadata": {
        "id": "-v0zzY0y0zph"
      },
      "source": [
        "from sklearn.naive_bayes import MultinomialNB\n",
        "from sklearn.metrics import accuracy_score\n",
        "from sklearn import metrics\n",
        "from sklearn.metrics import confusion_matrix,accuracy_score,roc_auc_score,roc_curve,auc,f1_score\n",
        "from sklearn.preprocessing import LabelEncoder"
      ],
      "execution_count": 46,
      "outputs": []
    },
    {
      "cell_type": "code",
      "metadata": {
        "colab": {
          "base_uri": "https://localhost:8080/"
        },
        "id": "PROBVM1XckWG",
        "outputId": "ca38f6cc-dd6b-4b7e-ae00-1e16698f750e"
      },
      "source": [
        "def binary_labels(label):\n",
        "  if label in ['discuss', 'agree', 'disagree']:\n",
        "    return 'related'\n",
        "  elif label in ['unrelated']:\n",
        "    return label\n",
        "  else:\n",
        "    assert f'{label} not found!'\n",
        "\n",
        "train_merged_labels = train_merged['Stance'].apply(binary_labels)\n",
        "test_merged_labels = test_merged['Stance'].apply(binary_labels)\n",
        "print(train_merged_labels.unique(), test_merged_labels.unique())"
      ],
      "execution_count": null,
      "outputs": [
        {
          "output_type": "stream",
          "text": [
            "['unrelated' 'related'] ['unrelated' 'related']\n"
          ],
          "name": "stdout"
        }
      ]
    },
    {
      "cell_type": "code",
      "metadata": {
        "id": "R8i2IOL7TNgA"
      },
      "source": [
        "X_train_tfidf,Y_train = hstack([train_head_feature,train_body_feature]).toarray(), train_merged_labels.values\n",
        "X_test_tfidf,Y_test =  hstack([test_head_feature,test_body_feature]).toarray(),  test_merged_labels.values"
      ],
      "execution_count": null,
      "outputs": []
    },
    {
      "cell_type": "code",
      "metadata": {
        "colab": {
          "base_uri": "https://localhost:8080/"
        },
        "id": "ULRzsPu0UZ2F",
        "outputId": "00babc4f-1197-4dcd-dcf9-99ab318bc92e"
      },
      "source": [
        "print(X_train_tfidf.shape,X_test_tfidf.shape )\n"
      ],
      "execution_count": null,
      "outputs": [
        {
          "output_type": "stream",
          "text": [
            "(49972, 160) (25413, 160)\n"
          ],
          "name": "stdout"
        }
      ]
    },
    {
      "cell_type": "code",
      "metadata": {
        "colab": {
          "base_uri": "https://localhost:8080/"
        },
        "id": "GdCltfvcV2SB",
        "outputId": "2a900a1b-79ca-45f4-ddb3-47ef4c14587d"
      },
      "source": [
        "train_merged['Stance'].unique()"
      ],
      "execution_count": null,
      "outputs": [
        {
          "output_type": "execute_result",
          "data": {
            "text/plain": [
              "array(['unrelated', 'discuss', 'agree', 'disagree'], dtype=object)"
            ]
          },
          "metadata": {
            "tags": []
          },
          "execution_count": 105
        }
      ]
    },
    {
      "cell_type": "code",
      "metadata": {
        "colab": {
          "base_uri": "https://localhost:8080/"
        },
        "id": "GWb-JRzVXe75",
        "outputId": "5a1198f0-2e83-4391-db31-55bc4cea7d4f"
      },
      "source": [
        "net = MultinomialNB(alpha=0.39)\n",
        "net.fit(X_train_tfidf, Y_train)\n",
        "print(\"train score:\", net.score(X_train_tfidf, Y_train))\n",
        "print(\"validation score:\", net.score(X_test_tfidf, Y_test))"
      ],
      "execution_count": null,
      "outputs": [
        {
          "output_type": "stream",
          "text": [
            "train score: 0.7430561114223966\n",
            "validation score: 0.7278164718844686\n"
          ],
          "name": "stdout"
        }
      ]
    },
    {
      "cell_type": "code",
      "metadata": {
        "id": "Zy4AAPBH0k5d"
      },
      "source": [
        "import matplotlib.pyplot as plt\n",
        "import seaborn as sn\n",
        "plt.style.use('ggplot')\n",
        "# Create the confussion matrix\n",
        "def plot_confussion_matrix(y_test, y_pred):\n",
        "    ''' Plot the confussion matrix for the target labels and predictions '''\n",
        "    cm = confusion_matrix(y_test, y_pred)\n",
        "\n",
        "    # Create a dataframe with the confussion matrix values\n",
        "    df_cm = pd.DataFrame(cm, range(cm.shape[0]),\n",
        "                  range(cm.shape[1]))\n",
        "\n",
        "    # Plot the confussion matrix\n",
        "    sn.set(font_scale=1.4) #for label size\n",
        "    sn.heatmap(df_cm, annot=True,fmt='.0f',cmap=\"YlGnBu\",annot_kws={\"size\": 10})# font size\n",
        "    plt.show()\n",
        "\n",
        "\n",
        "# ROC Curve\n",
        "# plot no skill\n",
        "# Calculate the points in the ROC curve\n",
        "def plot_roc_curve(y_test, y_pred):\n",
        "    ''' Plot the ROC curve for the target labels and predictions'''\n",
        "\n",
        "    enc = LabelEncoder()\n",
        "    y_test = enc.fit_transform(y_test)\n",
        "    y_pred = enc.fit_transform(y_pred)\n",
        "    fpr, tpr, thresholds = roc_curve(y_test, y_pred, pos_label=1)\n",
        "    roc_auc= auc(fpr,tpr)\n",
        "    plt.figure(figsize=(12, 12))\n",
        "    ax = plt.subplot(121)\n",
        "    ax.set_aspect(1)\n",
        "    \n",
        "    plt.title('Receiver Operating Characteristic')\n",
        "    plt.plot(fpr, tpr, 'b', label = 'AUC = %0.2f' % roc_auc)\n",
        "    plt.legend(loc = 'lower right')\n",
        "    plt.plot([0, 1], [0, 1],'r--')\n",
        "    plt.xlim([0, 1])\n",
        "    plt.ylim([0, 1])\n",
        "    plt.ylabel('True Positive Rate')\n",
        "    plt.xlabel('False Positive Rate')\n",
        "    plt.show()"
      ],
      "execution_count": 48,
      "outputs": []
    },
    {
      "cell_type": "code",
      "metadata": {
        "id": "8kzxq0pT6mMG"
      },
      "source": [
        "# Predicting the Test set results\n",
        "prediction = net.predict(X_test_tfidf)\n",
        "\n",
        "#print the classification report to highlight the accuracy with f1-score, precision and recall\n",
        "print(metrics.classification_report(prediction, Y_test))\n",
        "plot_confussion_matrix(prediction, Y_test)\n",
        "plot_roc_curve(prediction, Y_test)"
      ],
      "execution_count": null,
      "outputs": []
    },
    {
      "cell_type": "markdown",
      "metadata": {
        "id": "dTOoZKCbAahd"
      },
      "source": [
        "#TF-idf Binary classification with logistice regression"
      ]
    },
    {
      "cell_type": "markdown",
      "metadata": {
        "id": "C-P8y-SFtA5y"
      },
      "source": [
        "Steps:\n",
        " - Create k-fold starififed dataloader [x]\n",
        "   - Use Sampler to have more control over the batch\n",
        "   - Write a function get_dataloaders() that will return dict of shape fold_id x tuple. The tuple contains dataloader \n",
        " - Train the modle on all the splits [x]\n",
        "    - How?\n",
        "      - Write a function that will train for 1 single fold \n",
        "        - It will take the train_loader and test_loader of that split\n",
        "          - These loaders can be accessed by the get_dataloaders()\n",
        "- Evaluate the model \n",
        "    - Do we need to evaluate the model after each epoch?\n",
        "      - Yes we need need to\n",
        "        - Print the stats \n",
        "        - Track the stats\n",
        "    - Use tracked stats of (fold x stats) to generate global stats \n",
        "      - What is stats, in other words what are we using to measure the performance?\n",
        "        - Accurracy and F-Score??\n",
        "        -  the class-wise and the macro-averaged F1scores \n",
        "          - this metrics are not affected by the large size of the majority class. \n",
        "        - What is class-wise F1score?\n",
        "          - harmoic means of precison and recalls of four class\n",
        "        - What is F1m meteric?\n",
        "          - The macro F1 Score\n",
        "            - What is macro F1 Score?\n",
        "              - Draw/do compuatation across all the rows then compute average across that\n",
        "        - How can we get this score?\n",
        "          - Use sklearn classification report\n",
        "          - set the output_dict=1\n",
        "          - out['macro avg']['f1-score']\n",
        "          - out['macro avg']['accuracy']\n",
        "        - How will I know if the model is overfitting?\n",
        "          - calcualte the test loss \n",
        "\n",
        "  - At last I can send the whole test set for classification\n",
        "    - then plot ROC\n",
        "    - confusion matrxi\n",
        "  \n",
        "  - What about the class weights?\n",
        "    - FNC-1 paper: \n",
        "      - 0.25 reward crrectly classfiying reward R\n",
        "        - 1-0.25: 0.75 (extra pentaly)\n",
        "        - Total Pentatlty: 1+0.75\n",
        "      - 0.25 reward crrectly classfiying reward UR\n",
        "  - Train the model\n",
        "    - Load the dataset\n",
        "        - load the csv\n",
        "        - load the X_Train,Y-train\n",
        "        - load the X_text , Y_test\n",
        "        - Send them into gpu\n",
        "        - trian\n",
        "        \n",
        "\n",
        "\n",
        "        \n"
      ]
    },
    {
      "cell_type": "code",
      "metadata": {
        "id": "NnRZCVf7KKjV"
      },
      "source": [
        "from torch.utils.data import DataLoader,Dataset\n",
        "import torch\n",
        "from sklearn.model_selection import KFold\n",
        "from sklearn.model_selection import StratifiedKFold\n",
        "from torch.utils.data import ConcatDataset,SubsetRandomSampler\n",
        "from collections import defaultdict\n",
        "class TfidfBinaryStanceDataset(Dataset):\n",
        "  def __init__(self, X,Y):\n",
        "    '''\n",
        "    Args:\n",
        "      X: (samples x Features)\n",
        "      Y: (samples). containing binary class eg. [1,0,1,1,....] \n",
        "    '''\n",
        "    super(TfidfBinaryStanceDataset, self).__init__()\n",
        "    self.x = torch.tensor(X).float()\n",
        "    self.y = torch.tensor(Y).long()\n",
        "  def __len__(self):\n",
        "    return len(self.x)\n",
        "  def __getitem__(self,idx):\n",
        "    return (self.x[idx] ,self.y[idx])\n",
        "\n",
        "\n",
        "def get_dataloaders(x_train,y_train,x_test,y_test,bs=256,nfold=5):\n",
        "  '''\n",
        "  Args:\n",
        "    x_train: nd.array of shape (samples x features)\n",
        "    y_train: nd.array of shape (labels )\n",
        "    x_test: nd.array of shape (samples x features)\n",
        "    y_test: nd.array of shape (labels )\n",
        "    nfold: Scalar, number of total folds, It can't be greater than number of samples in each class\n",
        "  Returns:\n",
        "    loaders: Dict of shape (nfolds x 2), where the keys are fold ids and tuple containing train and test loader for \n",
        "             that split\n",
        "  '''\n",
        "  train_dataset = TfidfBinaryStanceDataset(x_train,y_train)\n",
        "  test_dataset = TfidfBinaryStanceDataset(x_test,y_test)\n",
        "  dataset = ConcatDataset([train_dataset,test_dataset]) #A big dataset\n",
        "  \n",
        "  kfold = StratifiedKFold(n_splits=nfold, shuffle=False)\n",
        "  labels = [data[1] for data in dataset]\n",
        "  loaders = defaultdict(tuple)\n",
        "  for fold,(train_ids,test_ids) in enumerate(kfold.split(dataset,labels)):\n",
        "    train_subsampler = SubsetRandomSampler(train_ids)\n",
        "    test_subsampler = SubsetRandomSampler(test_ids)\n",
        "    train_loader = torch.utils.data.DataLoader(dataset,batch_size=bs, sampler=train_subsampler) #\n",
        "    test_loader = torch.utils.data.DataLoader(dataset,batch_size=bs, sampler=test_subsampler)\n",
        "    loaders[fold] = (train_loader,test_loader)\n",
        "  return loaders\n",
        "  \n",
        "  \n",
        "  \n",
        "\n",
        "  \n",
        "  \n",
        "  \n",
        "  \n"
      ],
      "execution_count": 10,
      "outputs": []
    },
    {
      "cell_type": "code",
      "metadata": {
        "id": "f6AU-NC6A610"
      },
      "source": [
        "import torch\n",
        "import torch.nn as nn\n",
        "from torch.optim import Adam\n",
        "import numpy as np\n",
        "from collections import defaultdict\n",
        "from sklearn.preprocessing import LabelEncoder\n",
        "from sklearn.metrics import classification_report\n",
        "\n",
        "class LogisticRegression(nn.Module):\n",
        "  def __init__(self, input_dim, output_dim):\n",
        "    super(LogisticRegression,self).__init__()\n",
        "    self.linear = nn.Linear(input_dim,output_dim)\n",
        "  \n",
        "  def forward(self,x):\n",
        "    out = self.linear(x)\n",
        "    return out\n",
        "\n",
        "def eval_one_epoch(net,dataloader,optim,lfn,triplet_lfn,margin):\n",
        "  net.eval()\n",
        "  losses = []\n",
        "  f1m = []\n",
        "  for batch_id, (x,y) in enumerate(dataloader):\n",
        "    assert len(torch.unique(y)) != 1\n",
        "    x = x.to(device).float()\n",
        "    y = y.to(device).long()\n",
        "    hs = net(x) #(sampels x 2)\n",
        "    #BCE-loss\n",
        "    ce_loss = lfn(hs,y)\n",
        "  \n",
        "    #triplet-loss\n",
        "    #generate the triplet\n",
        "    probs = hs.softmax(dim=1) #(samples x 2)\n",
        "    y_hat = probs.argmax(dim=1)\n",
        "    anchors,positives, negatives = generate_triplets(hs,y_hat,y) #(misclassified_samples, d_model=2)\n",
        "    anchors,positives, negatives = mine_hard_triplets(anchors,positives,negatives,margin) \n",
        "    triplet_loss = triplet_lfn(anchors,positives,negatives)\n",
        "  \n",
        "    #total-loss \n",
        "    loss = (ce_loss + triplet_loss)/2\n",
        "    losses += [loss.item()]\n",
        "\n",
        "    target_names = ['unrelated','related']\n",
        "    f1m += [classification_report(y_hat.detach().cpu().numpy(),\n",
        "                                  y.detach().cpu().numpy(), target_names=target_names,output_dict=1)['macro avg']['f1-score']]\n",
        "  return np.mean(losses), np.mean(f1m)\n",
        "\n",
        " \n",
        "\n",
        "def train_one_epoch(net,dataloader,optim,lfn,triplet_lfn,margin):\n",
        "  net.train()\n",
        "  losses = []\n",
        "  for batch_id, (x_train,y_train) in enumerate(dataloader):\n",
        "    x_train = x_train.to(device).float()\n",
        "    y_train = y_train.to(device).long()\n",
        "    hs = net(x_train) #(sampels x 2)\n",
        "  \n",
        "    #BCE-loss\n",
        "    ce_loss = lfn(hs,y_train)\n",
        "  \n",
        "    #triplet-loss\n",
        "    #generate the triplet\n",
        "    probs = hs.softmax(dim=1) #(samples x 2)\n",
        "    y_hat = probs.argmax(dim=1)\n",
        "    anchors,positives, negatives = generate_triplets(hs,y_hat,y_train) #(misclassified_samples, d_model=2)\n",
        "    anchors,positives, negatives = mine_hard_triplets(anchors,positives,negatives,margin) \n",
        "    triplet_loss = triplet_lfn(anchors,positives,negatives)\n",
        "  \n",
        "    #total-loss \n",
        "    loss = (ce_loss + triplet_loss)/2\n",
        "    loss.backward()\n",
        "    optim.step()\n",
        "    optim.zero_grad()\n",
        "\n",
        "    losses += [loss.item()]\n",
        "  return sum(losses)/len(losses)\n",
        "\n",
        "def mine_hard_triplets(anchors,positives,negatives,margin):\n",
        "  '''\n",
        "  Args:\n",
        "    anchor: Tensor of shape (missclassified_samples x 2 )\n",
        "    positive: Tensor of shape (missclassified_smaples_positive x 2)\n",
        "    negative: Tensor of shape (missclassified_smaples_negative x 2)\n",
        "  \n",
        "  Returns:\n",
        "    anchor: Tensor of shape (hard_missclassified_samples x 2 )\n",
        "    positive: Tensor of shape (hard_missclassified_smaples_positive x 2)\n",
        "    negative: Tensor of shape (hard_missclassified_smaples_negative x 2)\n",
        "    \n",
        "  '''\n",
        "  #mine-semihar triplets \n",
        "  l2_dist = nn.PairwiseDistance()\n",
        "  d_p = l2_dist(anchors, positives) \n",
        "  d_n = l2_dist(anchors, negatives) \n",
        "  hard_triplets = torch.where((d_n - d_p < margin))[0]\n",
        "\n",
        "  anchors = anchors[hard_triplets]\n",
        "  positives = positives[hard_triplets]\n",
        "  negatives = negatives[hard_triplets]\n",
        "  return anchors,positives,negatives\n",
        "\n",
        "def generate_triplets(hs,y_hat,y):\n",
        "  '''\n",
        "  Args:\n",
        "    hs: (Samples x 2) \n",
        "    y_hat: Tensor of shape (samples,), Containing predicted label eg. [1,0,1,1,1,1]\n",
        "    y: Tensor of shape (samples,), Containing GT label eg. [1,0,1,1,1,1] \n",
        "  \n",
        "  Returns:\n",
        "    anchor: Tensor of shape (missclassified_samples x 2 )\n",
        "    positive: Tensor of shape (missclassified_smaples_positive x 2)\n",
        "    negative: Tensor of shape (missclassified_smaples_negative x 2)\n",
        "  '''\n",
        "  mismatch_indices = torch.where(y_hat != y)[0]\n",
        "  anchors = hs[mismatch_indices] #(miscalssfied_samples x 2)\n",
        "  positives = get_positives(hs,mismatch_indices,y)  #(miscalssfied_samples x 2)\n",
        "  negatives = get_negatives(hs,mismatch_indices,y)\n",
        "  return anchors,positives, negatives\n",
        "\n",
        "\n",
        "def get_positives(hs,misclassified_indicies,y):\n",
        "  '''\n",
        "  For each misclassfied sample we, randomly pick 1 positive anchor\n",
        "  Args:\n",
        "    hs: (Samples x 2) \n",
        "    mismatch_indices: A tensor of shape [misclassified], containing row indices relatie to hs\n",
        "    y: Tensor of shape (samples,), Containing GT label eg. [1,0,1,1,1,1] \n",
        "  \n",
        "  Returns:\n",
        "    positive: Tensor of shape [misclassified x 2]\n",
        "  '''\n",
        "  positives_indices = []\n",
        "  negative_indices = []\n",
        "  for anchor_index in misclassified_indicies:\n",
        "    anchor_class = y[anchor_index]\n",
        "\n",
        "    possible_positives = torch.where(y == anchor_class)[0]\n",
        "\n",
        "    positive_index = anchor_index\n",
        "    while anchor_index == positive_index:\n",
        "      positive_index = np.random.choice(possible_positives.detach().cpu().numpy())\n",
        "    positives_indices += [positive_index]\n",
        "  \n",
        "  positives = hs[positives_indices]\n",
        "  return positives\n",
        "\n",
        "def get_negatives(hs,misclassified_indicies,y):\n",
        "  '''\n",
        "  For each misclassfied sample we, randomly pick 1 negative anchor\n",
        "  Args:\n",
        "    hs: (Samples x 2) \n",
        "    mismatch_indices: A tensor of shape [misclassified], containing row indices relatie to hs\n",
        "    y: Tensor of shape (samples,), Containing GT label eg. [1,0,1,1,1,1] \n",
        "  \n",
        "  Returns:\n",
        "    positive: Tensor of shape [misclassified x 2]\n",
        "  '''\n",
        "  negative_indices = []\n",
        "  for anchor_index in misclassified_indicies:\n",
        "    anchor_class = y[anchor_index]\n",
        "\n",
        "    possible_negatives = torch.where(y != anchor_class)[0]\n",
        "\n",
        "    negative_index = np.random.choice(possible_negatives.detach().cpu().numpy()) #possible_negatives are empty\n",
        "\n",
        "    negative_indices += [negative_index]\n",
        "  \n",
        "  negatives = hs[negative_indices]\n",
        "  return negatives\n",
        "\n",
        "def save_model(net,macro_fs,fs):\n",
        "  if fs>=max(macro_fs):\n",
        "    torch.save(net,'./net.pth')\n",
        "\n",
        "\n",
        "\n",
        "#TODO: Find the class wegihts \n",
        "device = torch.device(\"cuda:0\" if torch.cuda.is_available() else \"cpu\")\n",
        "epoch = 20\n",
        "margin= 0.5\n",
        "lr = 4.33E-02\n",
        "bs = 1024\n",
        "nfolds = 5\n",
        "enc = LabelEncoder()\n",
        "x_train = X_train_tfidf\n",
        "y_train =enc.fit_transform(Y_train)\n",
        "x_test = X_test_tfidf\n",
        "y_test = enc.fit_transform(Y_test)\n",
        "def train():\n",
        "  class_weights = torch.tensor([1.75,1]).to(device)\n",
        "  lfn = nn.CrossEntropyLoss(weight=class_weights).to(device)\n",
        "  triplet_lfn = nn.TripletMarginLoss(margin=margin).to(device)\n",
        "  \n",
        "  loaders = get_dataloaders(x_train,y_train,x_test,y_test,bs=bs, nfold=nfolds) #dict of shape (nfold x 2),2 because it consist of train_loader and test_loader\n",
        "  macro_f1m = []\n",
        "  for fold in range(nfolds):\n",
        "    fold_macro_f1m =[]\n",
        "    print(f'Starting training for fold:{fold}')\n",
        "    net = LogisticRegression(input_dim= x_train.shape[1],\n",
        "                             output_dim= 2).to(device)\n",
        "    \n",
        "    optim = Adam(net.parameters(), lr=lr)\n",
        "    for e in range(epoch):\n",
        "      train_loss = train_one_epoch(net,\n",
        "                                  loaders[fold][0],\n",
        "                                   optim,\n",
        "                                   lfn,\n",
        "                                   triplet_lfn,\n",
        "                                   margin)\n",
        "      eval_loss,f1m = eval_one_epoch(net,\n",
        "                                    loaders[fold][1],\n",
        "                                    optim,\n",
        "                                    lfn,\n",
        "                                    triplet_lfn,\n",
        "                                    margin)\n",
        "      macro_f1m += [f1m]\n",
        "      fold_macro_f1m += [f1m]\n",
        "      save_model(net,macro_f1m,f1m)\n",
        "      if (e+1)%5==0:\n",
        "        print(f'nfold:{fold},epoch:{e},train loss:{train_loss}, eval loss:{eval_loss}, fm1:{f1m}')\n",
        "    print(f'Fold:{fold}, Average F1-Macro:{np.mean(fold_macro_f1m)}')\n",
        "  print('=======================================')\n",
        "  print(f'{nfolds}-Folds Average F1-Macro:{np.mean(macro_f1m)}')\n",
        "  return np.mean(macro_f1m)\n",
        "\n"
      ],
      "execution_count": 28,
      "outputs": []
    },
    {
      "cell_type": "code",
      "metadata": {
        "colab": {
          "base_uri": "https://localhost:8080/",
          "height": 654,
          "referenced_widgets": [
            "c18efe38eb474a82af2d69e58541e82a",
            "05fc5f9dbb9f4bb1844a9a718e2d4eb8",
            "9471611b94444c98a910c5269efe7a06",
            "b6ce65b2fc774e9abe8567dfdea32613",
            "1a7883671b854e72923e098c1d268f77",
            "0b41995493fa44208c5256e2b9cf9bff",
            "37549c70f0904d5b97aca92273f24cea",
            "9c4dae95f59a4fffbdb13313b6abb4ae"
          ]
        },
        "id": "dDSLgFX59uQ_",
        "outputId": "4c93d23f-884f-41c1-dae7-f348a8ba1ff9"
      },
      "source": [
        "#Use Cyclical Learning Rates for Training Neural Networks to roughly estimate good lr \n",
        "#!pip install torch_lr_finder\n",
        "from torch_lr_finder import LRFinder\n",
        "loaders = get_dataloaders(x_train,y_train,x_test,y_test,bs=256, nfold=nfolds)\n",
        "train_loader = loaders[0][0]\n",
        "model = LogisticRegression(160,2)\n",
        "criterion = nn.CrossEntropyLoss()\n",
        "optimizer = Adam(model.parameters(), lr=1e-7, weight_decay=1e-2)\n",
        "lr_finder = LRFinder(model, optimizer, criterion, device=\"cuda\")\n",
        "lr_finder.range_test(train_loader, end_lr=100, num_iter=100)\n",
        "lr_finder.plot() # to inspect the loss-learning rate graph\n",
        "lr_finder.reset() # to reset the model and optimizer to their initial state"
      ],
      "execution_count": 11,
      "outputs": [
        {
          "output_type": "stream",
          "text": [
            "Collecting torch_lr_finder\n",
            "  Downloading https://files.pythonhosted.org/packages/ea/51/1a869067989a0fdaf18e49f0ee3aebfcb63470525245aac7dc390cfc676a/torch_lr_finder-0.2.1-py3-none-any.whl\n",
            "Requirement already satisfied: tqdm in /usr/local/lib/python3.7/dist-packages (from torch_lr_finder) (4.41.1)\n",
            "Requirement already satisfied: matplotlib in /usr/local/lib/python3.7/dist-packages (from torch_lr_finder) (3.2.2)\n",
            "Requirement already satisfied: numpy in /usr/local/lib/python3.7/dist-packages (from torch_lr_finder) (1.19.5)\n",
            "Requirement already satisfied: packaging in /usr/local/lib/python3.7/dist-packages (from torch_lr_finder) (20.9)\n",
            "Requirement already satisfied: torch>=0.4.1 in /usr/local/lib/python3.7/dist-packages (from torch_lr_finder) (1.8.0+cu101)\n",
            "Requirement already satisfied: python-dateutil>=2.1 in /usr/local/lib/python3.7/dist-packages (from matplotlib->torch_lr_finder) (2.8.1)\n",
            "Requirement already satisfied: kiwisolver>=1.0.1 in /usr/local/lib/python3.7/dist-packages (from matplotlib->torch_lr_finder) (1.3.1)\n",
            "Requirement already satisfied: pyparsing!=2.0.4,!=2.1.2,!=2.1.6,>=2.0.1 in /usr/local/lib/python3.7/dist-packages (from matplotlib->torch_lr_finder) (2.4.7)\n",
            "Requirement already satisfied: cycler>=0.10 in /usr/local/lib/python3.7/dist-packages (from matplotlib->torch_lr_finder) (0.10.0)\n",
            "Requirement already satisfied: typing-extensions in /usr/local/lib/python3.7/dist-packages (from torch>=0.4.1->torch_lr_finder) (3.7.4.3)\n",
            "Requirement already satisfied: six>=1.5 in /usr/local/lib/python3.7/dist-packages (from python-dateutil>=2.1->matplotlib->torch_lr_finder) (1.15.0)\n",
            "Installing collected packages: torch-lr-finder\n",
            "Successfully installed torch-lr-finder-0.2.1\n"
          ],
          "name": "stdout"
        },
        {
          "output_type": "display_data",
          "data": {
            "application/vnd.jupyter.widget-view+json": {
              "model_id": "c18efe38eb474a82af2d69e58541e82a",
              "version_minor": 0,
              "version_major": 2
            },
            "text/plain": [
              "HBox(children=(FloatProgress(value=0.0), HTML(value='')))"
            ]
          },
          "metadata": {
            "tags": []
          }
        },
        {
          "output_type": "stream",
          "text": [
            "Stopping early, the loss has diverged\n",
            "Learning rate search finished. See the graph with {finder_name}.plot()\n",
            "LR suggestion: steepest gradient\n",
            "Suggested LR: 2.31E-02\n"
          ],
          "name": "stdout"
        },
        {
          "output_type": "display_data",
          "data": {
            "image/png": "[encoded data removed]",
            "text/plain": [
              "<Figure size 432x288 with 1 Axes>"
            ]
          },
          "metadata": {
            "tags": [],
            "needs_background": "light"
          }
        }
      ]
    },
    {
      "cell_type": "code",
      "metadata": {
        "colab": {
          "base_uri": "https://localhost:8080/"
        },
        "id": "orPnPj8jPE4s",
        "outputId": "6456df7e-a20b-48f4-de68-ec64c03cd23d"
      },
      "source": [
        "train()"
      ],
      "execution_count": 29,
      "outputs": [
        {
          "output_type": "stream",
          "text": [
            "Starting training for fold:0\n",
            "nfold:0,epoch:4,train loss:0.6024146110324536, eval loss:0.6200127760569255, fm1:0.41559849509023383\n",
            "nfold:0,epoch:9,train loss:0.5978681485531694, eval loss:0.6050375978151957, fm1:0.4030031157333551\n",
            "nfold:0,epoch:14,train loss:0.5998595609503278, eval loss:0.5948281049728393, fm1:0.407867282161874\n",
            "nfold:0,epoch:19,train loss:0.5981861807532229, eval loss:0.6027443011601766, fm1:0.42075218038799256\n",
            "Fold:0, Average F1-Macro:0.4127324674774284\n",
            "Starting training for fold:1\n",
            "nfold:1,epoch:4,train loss:0.6025787218142364, eval loss:0.6016569177309672, fm1:0.43250310569308986\n",
            "nfold:1,epoch:9,train loss:0.5973691990820028, eval loss:0.6045343279838562, fm1:0.44679272166665146\n",
            "nfold:1,epoch:14,train loss:0.6005635180715787, eval loss:0.5813541769981384, fm1:0.4268086770363271\n",
            "nfold:1,epoch:19,train loss:0.6011431914264873, eval loss:0.5997809410095215, fm1:0.42668907904661124\n",
            "Fold:1, Average F1-Macro:0.44108015002020895\n",
            "Starting training for fold:2\n",
            "nfold:2,epoch:4,train loss:0.5987946845717349, eval loss:0.5846388498942058, fm1:0.42370208601695203\n",
            "nfold:2,epoch:9,train loss:0.5992476344108582, eval loss:0.6136406898498535, fm1:0.43747891095105446\n",
            "nfold:2,epoch:14,train loss:0.5968704809576778, eval loss:0.6002291361490886, fm1:0.42699673979421504\n",
            "nfold:2,epoch:19,train loss:0.6000207652479915, eval loss:0.5900104999542236, fm1:0.4247215177374668\n",
            "Fold:2, Average F1-Macro:0.42944124669108985\n",
            "Starting training for fold:3\n",
            "nfold:3,epoch:4,train loss:0.5997520897348049, eval loss:0.590477712949117, fm1:0.40392972882751793\n",
            "nfold:3,epoch:9,train loss:0.5979607580071788, eval loss:0.5996671398480733, fm1:0.4073626480036444\n",
            "nfold:3,epoch:14,train loss:0.5993322851294178, eval loss:0.5894471764564514, fm1:0.4100946046554814\n",
            "nfold:3,epoch:19,train loss:0.5980879502781367, eval loss:0.5922741095225016, fm1:0.41269239065377616\n",
            "Fold:3, Average F1-Macro:0.40943418809767385\n",
            "Starting training for fold:4\n",
            "nfold:4,epoch:4,train loss:0.6021876820063187, eval loss:0.6027048508326213, fm1:0.41075418397788915\n",
            "nfold:4,epoch:9,train loss:0.5996838737342317, eval loss:0.6106006304423014, fm1:0.4247308204855665\n",
            "nfold:4,epoch:14,train loss:0.5994551697019803, eval loss:0.5860225121180217, fm1:0.4144711033184684\n",
            "nfold:4,epoch:19,train loss:0.6028875496427891, eval loss:0.596651287873586, fm1:0.4246737953911698\n",
            "Fold:4, Average F1-Macro:0.41547834566387065\n",
            "=======================================\n",
            "5-Folds Average F1-Macro:0.42163327959005437\n"
          ],
          "name": "stdout"
        },
        {
          "output_type": "execute_result",
          "data": {
            "text/plain": [
              "0.42163327959005437"
            ]
          },
          "metadata": {
            "tags": []
          },
          "execution_count": 29
        }
      ]
    },
    {
      "cell_type": "markdown",
      "metadata": {
        "id": "YUd1Gwat82hF"
      },
      "source": [
        "#test"
      ]
    },
    {
      "cell_type": "code",
      "metadata": {
        "colab": {
          "base_uri": "https://localhost:8080/",
          "height": 810
        },
        "id": "sCthLjYz67Ks",
        "outputId": "826829d4-52ad-4146-c11e-8dc8c8e8559a"
      },
      "source": [
        "#net = torch.load('./net.pth')\n",
        "net.eval()\n",
        "x_test = torch.from_numpy(X_test_tfidf).to(device).float()\n",
        "probs = net(x_test)\n",
        "prediction = probs.argmax(dim=1).detach().cpu().numpy()\n",
        "# #print the classification report to highlight the accuracy with f1-score, precision and recall\n",
        "prediction = ['unrelated' if p else 'related' for p in prediction ]\n",
        "print(metrics.classification_report(prediction, Y_test))\n",
        "plot_confussion_matrix(prediction, Y_test)\n",
        "plot_roc_curve(prediction, Y_test)"
      ],
      "execution_count": 56,
      "outputs": [
        {
          "output_type": "stream",
          "text": [
            "              precision    recall  f1-score   support\n",
            "\n",
            "     related       0.08      0.14      0.10      4143\n",
            "   unrelated       0.81      0.69      0.75     21270\n",
            "\n",
            "    accuracy                           0.60     25413\n",
            "   macro avg       0.44      0.42      0.42     25413\n",
            "weighted avg       0.69      0.60      0.64     25413\n",
            "\n"
          ],
          "name": "stdout"
        },
        {
          "output_type": "display_data",
          "data": {
            "image/png": "[encoded data removed]",
            "text/plain": [
              "<Figure size 432x288 with 2 Axes>"
            ]
          },
          "metadata": {
            "tags": []
          }
        },
        {
          "output_type": "display_data",
          "data": {
            "image/png": "[encoded data removed]",
            "text/plain": [
              "<Figure size 864x864 with 1 Axes>"
            ]
          },
          "metadata": {
            "tags": []
          }
        }
      ]
    },
    {
      "cell_type": "code",
      "metadata": {
        "id": "hm1Sp6QtCBCJ"
      },
      "source": [
        "#test for get_positives\n",
        "test_hs = torch.tensor([[0.8799, 0.0234],\n",
        "                        [0.2341, 0.8839],\n",
        "                        [0.8705, 0.1356],\n",
        "                        [0.9723, 0.1930],\n",
        "                        [0.7416, 0.4498]])\n",
        "test_mi = torch.tensor([0,1,2])\n",
        "y = torch.tensor([0,0,1,1,1])\n",
        "out = get_positives(test_hs,test_mi, y)\n",
        "assert out.shape == (3,2)\n",
        "\n",
        "#test for get_negatives\n",
        "test_hs = torch.tensor([[0.8799, 0.0234],\n",
        "                        [0.2341, 0.8839],\n",
        "                        [0.8705, 0.1356],\n",
        "                        [0.9723, 0.1930],\n",
        "                        [0.7416, 0.4498]])\n",
        "test_mi = torch.tensor([0,1,2])\n",
        "y = torch.tensor([0,0,1,1,1])\n",
        "out = get_negatives(test_hs,test_mi, y)\n",
        "assert out.shape == (3,2)\n",
        "\n",
        "\n",
        "#test for generate_triplets\n",
        "test_hs = torch.tensor([[0.8799, 0.0234],\n",
        "                        [0.2341, 0.8839],\n",
        "                        [0.8705, 0.1356],\n",
        "                        [0.9723, 0.1930],\n",
        "                        [0.7416, 0.4498]])\n",
        "y_hat = torch.tensor([1,1,1,1,1]) #\n",
        "y = torch.tensor([1,1,1,0,0])\n",
        "a,p,n = generate_triplets(test_hs,y_hat,y)\n",
        "assert a.shape == (2,2)\n",
        "assert p.shape == (2,2)\n",
        "assert n.shape == (2,2)\n",
        "\n",
        "#test for mine_hard_triplets\n",
        "a = torch.tensor([[0.8799, 0.0234],\n",
        "                  [0.2341, 0.8839],\n",
        "                  [0.7416, 0.4498]])\n",
        "p = torch.tensor([[0.8799, 0.0234],\n",
        "                  [0.2341, 0.8839],\n",
        "                  [0.7416, 0.4498]])\n",
        "\n",
        "n = torch.tensor([[0.8799, 0.0234],\n",
        "                  [0.2341, 0.8839],\n",
        "                  [0.7416, 0.4498]])\n",
        "h_a , h_p ,h_n= mine_hard_triplets(a,p,n,0.5)\n",
        "assert h_a.shape == (3,2)\n",
        "assert h_p.shape == (3,2)\n",
        "assert h_n.shape == (3,2)\n",
        "\n",
        "x_train = torch.tensor([[0.8799, 0.0234],\n",
        "                  [0.2341, 0.8839],\n",
        "                  [0.7416, 0.4498]])\n",
        "y_train = [1,1,0]\n",
        "x_test = torch.tensor([[0.8799, 0.0234],\n",
        "                  [0.2341, 0.8839],\n",
        "                  [0.7416, 0.4498]])\n",
        "y_test = [1,1,0,0]\n",
        "loader = get_dataloaders(x_train,y_train,x_test,y_test,bs=1,nfold=2)\n",
        "assert len(loader) == 2"
      ],
      "execution_count": null,
      "outputs": []
    },
    {
      "cell_type": "code",
      "metadata": {
        "colab": {
          "base_uri": "https://localhost:8080/"
        },
        "id": "5U88seEfPd9u",
        "outputId": "fd1de613-ff03-4856-da20-73cd6dbec577"
      },
      "source": [
        "for k,(train_loader,test_loader) in loader.items():\n",
        "  print(loaders)\n",
        "  for x,y in train_loader:\n",
        "    print(x.shape)\n",
        "    print(y.shape)\n"
      ],
      "execution_count": null,
      "outputs": [
        {
          "output_type": "stream",
          "text": [
            "<torch.utils.data.dataloader.DataLoader object at 0x7f2aaa3bd890>\n",
            "torch.Size([1, 2])\n",
            "torch.Size([1])\n",
            "torch.Size([1, 2])\n",
            "torch.Size([1])\n",
            "torch.Size([1, 2])\n",
            "torch.Size([1])\n",
            "<torch.utils.data.dataloader.DataLoader object at 0x7f2aaa3bd890>\n",
            "torch.Size([1, 2])\n",
            "torch.Size([1])\n",
            "torch.Size([1, 2])\n",
            "torch.Size([1])\n",
            "torch.Size([1, 2])\n",
            "torch.Size([1])\n"
          ],
          "name": "stdout"
        }
      ]
    },
    {
      "cell_type": "code",
      "metadata": {
        "id": "UeG2j3SY2M09"
      },
      "source": [
        "x ,y  = loader[0]"
      ],
      "execution_count": null,
      "outputs": []
    }
  ]
}